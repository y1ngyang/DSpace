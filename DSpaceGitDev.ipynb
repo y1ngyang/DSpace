{
  "nbformat": 4,
  "nbformat_minor": 0,
  "metadata": {
    "colab": {
      "name": "DSpaceGitDev.ipynb",
      "version": "0.3.2",
      "provenance": [],
      "collapsed_sections": [],
      "include_colab_link": true
    },
    "kernelspec": {
      "name": "python3",
      "display_name": "Python 3"
    }
  },
  "cells": [
    {
      "cell_type": "markdown",
      "metadata": {
        "id": "view-in-github",
        "colab_type": "text"
      },
      "source": [
        "<a href=\"https://colab.research.google.com/github/y1ngyang/DSpace/blob/master/DSpaceGitDev.ipynb\" target=\"_parent\"><img src=\"https://colab.research.google.com/assets/colab-badge.svg\" alt=\"Open In Colab\"/></a>"
      ]
    },
    {
      "metadata": {
        "id": "cCHaNjfAD06o",
        "colab_type": "code",
        "colab": {}
      },
      "cell_type": "code",
      "source": [
        "https://github.com/y1ngyang/DSpace"
      ],
      "execution_count": 0,
      "outputs": []
    },
    {
      "metadata": {
        "id": "Nulf4VYbEOEU",
        "colab_type": "text"
      },
      "cell_type": "markdown",
      "source": [
        "# Developing from a Forked Repository\n",
        "https://duraspace.org/dspace/\n",
        "https://wiki.duraspace.org/plugins/servlet/mobile?contentId=31659010#content/view/31659010\n"
      ]
    },
    {
      "metadata": {
        "id": "ruOlt1qFE9hd",
        "colab_type": "text"
      },
      "cell_type": "markdown",
      "source": [
        "Clone your GitHub Repo to your local machine. Now that you have a fork of the DSpace GitHub repository, you'll want to \"clone\" your repository to your local machine (so that you can commit to it, etc.). You can clone it to whatever directory you wish. You can click the clone button in the Github web interface, or you can use the following command line instruction. In the below example we call the directory \"dspace-src\". For this to work, you need to setup an ssh key with Github first:"
      ]
    },
    {
      "metadata": {
        "id": "QF9CtFniEPbP",
        "colab_type": "code",
        "colab": {
          "base_uri": "https://localhost:8080/",
          "height": 130
        },
        "outputId": "3e05b6b4-d819-4d9a-c931-b67a619b4c2f"
      },
      "cell_type": "code",
      "source": [
        "git clone git@github.com:[y1ngyang]/DSpace.git dspace-src\n",
        "cd dspace-src"
      ],
      "execution_count": 1,
      "outputs": [
        {
          "output_type": "error",
          "ename": "SyntaxError",
          "evalue": "ignored",
          "traceback": [
            "\u001b[0;36m  File \u001b[0;32m\"<ipython-input-1-acc074e5c5f7>\"\u001b[0;36m, line \u001b[0;32m1\u001b[0m\n\u001b[0;31m    git clone git@github.com:[y1ngyang]/DSpace.git dspace-src\u001b[0m\n\u001b[0m            ^\u001b[0m\n\u001b[0;31mSyntaxError\u001b[0m\u001b[0;31m:\u001b[0m invalid syntax\n"
          ]
        }
      ]
    },
    {
      "metadata": {
        "id": "xznQ9FP5FSFl",
        "colab_type": "text"
      },
      "cell_type": "markdown",
      "source": [
        "For easier Fetches/Merges, setup an \"upstream\" repository location. If you have forked the DSpace GitHub repository, then you may want to setup an \"upstream\" remote that points at the central DSpace GitHub repository. It basically just provides you with an easier to remember \"name\" for the central DSpace GitHub repository. This is described in more detail in the GitHub \"Fork a Repo\" guide. The second command will download all new references (branch names, tags, ...) from the upstream repo into your local repo."
      ]
    },
    {
      "metadata": {
        "id": "zfi_Q3UCFRK0",
        "colab_type": "code",
        "colab": {}
      },
      "cell_type": "code",
      "source": [
        "git remote add upstream git://github.com/DSpace/DSpace.git\n",
        "git fetch upstream"
      ],
      "execution_count": 0,
      "outputs": []
    },
    {
      "metadata": {
        "id": "_HyBT-E6FbvD",
        "colab_type": "text"
      },
      "cell_type": "markdown",
      "source": [
        "Create a branch for each new feature/bug you are working on. Because Git makes branching & merging easy (see Pro-Git's chapter on \"Basic Branching & Merging\"), you should create new branches frequently (even several times a day) and avoid working directly in the master branch (unless you are making a very minor change). In this case, we'll create a local branch named \"DS-123\" (note that this branch only exists on your local machine so far). We'll also perform a \"checkout\" in order to switch over to using this new branch."
      ]
    },
    {
      "metadata": {
        "id": "Aaeg_AS7FfTv",
        "colab_type": "code",
        "colab": {}
      },
      "cell_type": "code",
      "source": [
        "git branch DS-123\n",
        "git checkout DS-123\n"
      ],
      "execution_count": 0,
      "outputs": []
    },
    {
      "metadata": {
        "id": "AXj480MIFlrw",
        "colab_type": "text"
      },
      "cell_type": "markdown",
      "source": [
        "Do your development work on your new branch, committing changes as you go. Note that at this point, you are only committing changes to your local machine. Nothing new will show up in GitHub yet, until you pushit there. This is a very basic example of a single file commit, but you get the idea.\n",
        "\n"
      ]
    },
    {
      "metadata": {
        "id": "cQamCVLJFp8f",
        "colab_type": "code",
        "colab": {}
      },
      "cell_type": "code",
      "source": [
        "git commit NameOfFileToCommit.java"
      ],
      "execution_count": 0,
      "outputs": []
    },
    {
      "metadata": {
        "id": "nscAFALfFySR",
        "colab_type": "text"
      },
      "cell_type": "markdown",
      "source": [
        "Optionally, you can push these changes and this \"feature\" branch up to your GitHub account. If you want to share your work more publicly, you can push the changes and your new branch up to your personal GitHub repository:"
      ]
    },
    {
      "metadata": {
        "id": "g6fB8eQxF23V",
        "colab_type": "code",
        "colab": {}
      },
      "cell_type": "code",
      "source": [
        "git push origin DS-123"
      ],
      "execution_count": 0,
      "outputs": []
    },
    {
      "metadata": {
        "id": "r7ZvWffvF8Bb",
        "colab_type": "text"
      },
      "cell_type": "markdown",
      "source": [
        "Optionally, generate a Pull Request to DSpace GitHub. If this is code you feel should be added to the main DSpace GitHub, you should generate a Pull Request from your \"feature branch\" (DS-123) that you pushed in the previous step.  This will notify the DSpace Committers that you have a new feature or bug fix which you feel is worth adding to the main DSpace codebase. The Committers will then review this Pull Request and let you know if it can be accepted.\n",
        "\n",
        "For more details on generating a Pull Request for review, see the  Contributing Changes to DSpace via GitHub section below. Also see this guide from GitHub: https://help.github.com/articles/using-pull-requests/\n",
        "\n",
        "Always make sure to generate a Pull Request from a \"feature branch\" (e.g. branch \"DS-123\").  You should never generate a Pull Request from your \"master\" branch.  A Pull Request just points at a branch, so any new commits you add to that branch will be immediately reflected in your previously created Pull Request.\n",
        "\n",
        "**Optionally**, once you have finished your work, you may wish to merge your changes to your \"master\" branch. Your personal \"master\" branch is where all your completed code should eventually be merged (\"master\" is loosely equivalent to \"trunk\" in Subversion). So, once you are done with the branch development, you should merge that code back into your \"master\" branch. Luckily, Git makes this simple and will figure out the best way to merge the code for you. In rare situations you may encounter conflicts which Git will tell you to resolve. For more details, see Pro-Git's chapter on \"Basic Branching & Merging\". In order to perform the merge, you'll first need to switch over to the \"master\" branch (the branch you are merging into):"
      ]
    },
    {
      "metadata": {
        "id": "7YduVtMKGayB",
        "colab_type": "code",
        "colab": {}
      },
      "cell_type": "code",
      "source": [
        "git checkout master\n",
        "git merge DS-123"
      ],
      "execution_count": 0,
      "outputs": []
    },
    {
      "metadata": {
        "id": "b9kv5dQcGe-F",
        "colab_type": "text"
      },
      "cell_type": "markdown",
      "source": [
        "Optionally, push this merge up to your GitHub account. Again, at any time, you can push your local changes up to your GitHub account for public sharing. So, if you want to push your newly merged \"master\" branch, you'd do the following:\n",
        "\n"
      ]
    },
    {
      "metadata": {
        "id": "lK7OZea-GkB6",
        "colab_type": "code",
        "colab": {}
      },
      "cell_type": "code",
      "source": [
        "git push origin master"
      ],
      "execution_count": 0,
      "outputs": []
    },
    {
      "metadata": {
        "id": "TByxdbn7GjIn",
        "colab_type": "text"
      },
      "cell_type": "markdown",
      "source": [
        "Once your branch is no longer needed, you can delete it. Really, there's no need to keep around all these small branches! If you generated a Pull Request from this branch, you will need to keep it around until the Pull Request is either merged or closed. But, once you no longer have any other use for the branch you created, just delete it! Here's an example of deleting the \"DS-123\" branch from both your local machine and from your public GitHub account (if you shared it there)"
      ]
    },
    {
      "metadata": {
        "id": "GpFVWBloGtmD",
        "colab_type": "code",
        "colab": {}
      },
      "cell_type": "code",
      "source": [
        "# Remove the branch locally first\n",
        "git branch -d DS-123\n",
        "# If you have pushed it to GitHub, you can also remove it there by doing a new push (notice the \":\")\n",
        "git push origin :DS-123"
      ],
      "execution_count": 0,
      "outputs": []
    },
    {
      "metadata": {
        "id": "47J5Xw96GxbL",
        "colab_type": "text"
      },
      "cell_type": "markdown",
      "source": [
        "Fetch changes from central DSpace GitHub. New changes/updates/bug fixes happen all the time. So, you want to be able to keep your \"fork\" up-to-date with the central DSpace GitHub. In this case, you now can take advantage of the \"upstream\" remote setting that you setup back in Step #2 above. If you recall, in that step, you configured \"upstream\" to actually point to the central DSpace GitHub repo. So, if there are changes made to the central DSpace GitHub, you can fetch them into your \"master\" branch as follows:"
      ]
    },
    {
      "metadata": {
        "id": "CP6qFzwiG3QL",
        "colab_type": "code",
        "colab": {}
      },
      "cell_type": "code",
      "source": [
        "# Fetch the changes from the repo you named \"upstream\"\n",
        "git fetch upstream"
      ],
      "execution_count": 0,
      "outputs": []
    },
    {
      "metadata": {
        "id": "6C71vDyMG78y",
        "colab_type": "text"
      },
      "cell_type": "markdown",
      "source": [
        "Merge changes into your Local repository. Remember, \"fetching\" changes just brings a copy of those changes down to your local machine. You'll then need to merge those changes into your \"master\" branch, and optionally push the changes back to your personal public GitHub repository.\n",
        "\n"
      ]
    },
    {
      "metadata": {
        "id": "66nleEf0HCDH",
        "colab_type": "code",
        "colab": {}
      },
      "cell_type": "code",
      "source": [
        "# First, make sure we are on \"master\" branch\n",
        "git checkout master\n",
        "# Now, merge the changes in the \"upstream/master\" branch into my \"master\" branch\n",
        "git merge upstream/master"
      ],
      "execution_count": 0,
      "outputs": []
    },
    {
      "metadata": {
        "id": "aKZ4p8jmHGyK",
        "colab_type": "text"
      },
      "cell_type": "markdown",
      "source": [
        "Push those merged changes back up to GitHub. Once you are up-to-date, you may now want to push your latest merge back up to your public GitHub repository.\n",
        "\n"
      ]
    },
    {
      "metadata": {
        "id": "FNfc2yICHLf3",
        "colab_type": "code",
        "colab": {}
      },
      "cell_type": "code",
      "source": [
        "git push origin master\n",
        "# If the 'fetch' above pulled down new tags/branches, you also may wish to run the following to push those to your own repo.\n",
        "git push origin --all\n"
      ],
      "execution_count": 0,
      "outputs": []
    }
  ]
}